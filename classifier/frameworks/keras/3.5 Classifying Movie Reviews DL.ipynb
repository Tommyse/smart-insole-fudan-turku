{
 "cells": [
  {
   "cell_type": "code",
   "execution_count": null,
   "metadata": {},
   "outputs": [],
   "source": [
    "import keras\n",
    "print('Keras version: ', keras.__version__) # just checking ...\n",
    "from keras import models\n",
    "from keras import layers\n",
    "from keras import optimizers\n",
    "from keras import losses\n",
    "from keras import metrics\n",
    "from keras.datasets import imdb\n",
    "\n",
    "import numpy as np\n",
    "import matplotlib.pyplot as plt"
   ]
  },
  {
   "cell_type": "markdown",
   "metadata": {},
   "source": [
    "## The IMDB dataset\n",
    "\n",
    "Keras \"IMDB dataset\" is a set of 50,000 highly-polarized reviews from the Internet Movie Database.\n",
    "They are split into 25,000  reviews for training and 25,000 reviews for testing,\n",
    "each set consisting in 50% negative and 50% positive reviews (so called _sentiment_).\n",
    "\n",
    "IMDB dataset comes packaged with Keras (about 80Mb).\n",
    "Reviews have been preprocessed, and each review is encoded as a sequence of word indexes (integers),\n",
    "where each integer stands for a specific word in a dictionary.\n",
    "\n",
    "For convenience, words are indexed by overall frequency in the dataset,\n",
    "so that for instance the integer `3` encodes the 3rd most frequent word in the data.\n",
    "This allows for quick filtering operations such as: \n",
    "\"only consider the top 10,000 most common words, but eliminate the top 20 most common words\".\n",
    "\n",
    "As a convention, `0` does not stand for a specific word, but instead is used to encode any unknown word.\n",
    "\n",
    "Finally note that words that were not seen in the training set but are in the test set have simply been skipped."
   ]
  },
  {
   "cell_type": "code",
   "execution_count": null,
   "metadata": {},
   "outputs": [],
   "source": [
    "#loading the IMDB dataset, much like loading the MNIST data\n",
    "\n",
    "num_words = 10000 # see explanation below\n",
    "(train_data, train_labels), (test_data, test_labels) = imdb.load_data(num_words=num_words)"
   ]
  },
  {
   "cell_type": "markdown",
   "metadata": {},
   "source": [
    "\n",
    "The argument `num_words=10000` means that we will only keep the top 10,000 most frequently occurring words in the training data. Rare words \n",
    "will be discarded. This allows us to work with vector data of manageable size. It's also possible to throw away the most commonly used words using parameter `skip_top`, since these won't likely help much in telling documents apart.\n",
    "\n",
    "The variables `train_data` and `test_data` are lists of reviews, each review being a list of word indices (encoding a sequence of words). \n",
    "`train_labels` and `test_labels` are lists of 0s and 1s, where 0 stands for \"negative\" and 1 stands for \"positive\":"
   ]
  },
  {
   "cell_type": "markdown",
   "metadata": {},
   "source": [
    "Let's take a look at the complete loading API:\n",
    "```\n",
    "(x_train, y_train), (x_test, y_test) = imdb.load_data(\n",
    "    path=\"imdb.npz\",\n",
    "    num_words=None,\n",
    "    skip_top=0,\n",
    "    maxlen=None,\n",
    "    seed=113,\n",
    "    start_char=1,\n",
    "    oov_char=2,\n",
    "    index_from=3)\n",
    "```\n",
    "### Return values\n",
    "- `x_train`, `x_test`: list of sequences, which are lists of indexes (integers). \n",
    "If the `num_words` argument was specified, the maximum possible _index value_ is `num_words-1`.\n",
    "If the `maxlen` argument was specified, the largest possible _sequence length_ is `maxlen`.\n",
    "- `y_train`, `y_test`: list of integer labels (1 or 0).\n",
    "\n",
    "### Arguments\n",
    "- `path`: if you do not have the data locally (at `~/.keras/datasets/ + path`), it will be downloaded to this location.\n",
    "- `num_words`: int or `None`. Top most frequent words to consider. Any less frequent word will appear as `oov_char` value in the sequence data.\n",
    "- `skip_top`: int. Top most frequent words to ignore (they will appear as `oov_char` value in the sequence data).\n",
    "- `maxlen`: int. Maximum sequence length. Any longer sequence will be truncated.\n",
    "- `seed`: int. Seed for reproducible data shuffling (seed of the random number generator).\n",
    "- `start_char`: int. The _start of a sequence_ will be marked with this character. Set to 1 because 0 is usually the padding character.\n",
    "- `oov_char`: int. Words that were cut out because of the `num_words` or `skip_top` limit will be replaced with this character.\n",
    "- `index_from`: int. Index actual words with this index and higher."
   ]
  },
  {
   "cell_type": "code",
   "execution_count": null,
   "metadata": {},
   "outputs": [],
   "source": [
    "# What does it look like?\n",
    "print('Training data shape: ', train_data.shape)\n",
    "print('Test data shape:     ', test_data.shape)\n",
    "print('Example data train[0]\\n', train_data[0])\n",
    "print('Length of train[0]: ', len(train_data[0]))\n",
    "print('Label of train[0]:  ', train_labels[0])"
   ]
  },
  {
   "cell_type": "markdown",
   "metadata": {},
   "source": [
    "Since we restricted ourselves to the top 10,000 most frequent words, no word index will exceed 10,000.\n",
    "\n",
    "### Lecturer notes\n",
    "It seems that we actually get only `num_words - index_from` most frequent words ... doesn't really matter but might fix this?\n",
    "Also, it might be useful to use different codes for omitted common words and omitted rare words, now they are coded the same."
   ]
  },
  {
   "cell_type": "code",
   "execution_count": null,
   "metadata": {},
   "outputs": [],
   "source": [
    "print('Maximum word index:    ', max([max(sequence) for sequence in train_data]))\n",
    "print('Maximum review length: ', max([len(sequence) for sequence in train_data]))"
   ]
  },
  {
   "cell_type": "markdown",
   "metadata": {},
   "source": [
    "Let's see if we can decode these reviews back to English words.\n",
    "The Keras `imdb` package provides routine `get_word_index()`, which retrieves a dictionary mapping word indices back to words.\n",
    "\n",
    "### Lecturer notes\n",
    "\n",
    "It's kind of funny that the [Keras documentation](https://keras.io/datasets/) makes no mention of this word index routine, yet it is used in the textbook. There is a similar briefly documented routine for another dataset (Reuters), though.\n",
    "The dictionary (`.json` file) is loaded (in the same directory as the data) from the net first time you call the routine."
   ]
  },
  {
   "cell_type": "code",
   "execution_count": null,
   "metadata": {},
   "outputs": [],
   "source": [
    "word_index = imdb.get_word_index()"
   ]
  },
  {
   "cell_type": "markdown",
   "metadata": {},
   "source": [
    "We have a dictionary mapping words to an integer index, but we need a dictionary that maps integer indices to words.\n",
    "The inverse dictionary can be built simply by swapping the keys and values in the original dictionary."
   ]
  },
  {
   "cell_type": "code",
   "execution_count": null,
   "metadata": {},
   "outputs": [],
   "source": [
    "reverse_word_index = dict([(value, key) for (key, value) in word_index.items()])"
   ]
  },
  {
   "cell_type": "markdown",
   "metadata": {},
   "source": [
    "### Notes about routine `decode_data` below\n",
    "- When decoding the review, there's a minor technicality that all indices in training and test data are offset by 3 (`index_from`). This is because numbers 0, 1 and 2 are reserved indices for \"padding\", \"start of sequence\", and \"unknown/cut out\".\n",
    "- Python dictionary operation `dict.get(key, default = None)` is given a default value (`?`) to return if the given key (`i - idx_from`) is not in the dictionary.\n",
    "- Python `join()` (for strings) returns a string in which the string elements of a sequence have been joined by the given separator (in our case, blank)."
   ]
  },
  {
   "cell_type": "code",
   "execution_count": null,
   "metadata": {},
   "outputs": [],
   "source": [
    "def decode_label(idx, labels):\n",
    "    label = labels[idx]\n",
    "    if label == 0:\n",
    "        return('Sentiment: negative')\n",
    "    else:\n",
    "        return('Sentiment: positive')\n",
    "\n",
    "def decode_data(idx, coded_data, reverse_index, idx_from=3):\n",
    "    coded_item = coded_data[idx]\n",
    "    decoded_item = ' '.join([reverse_index.get(i - idx_from, '?') for i in coded_item])\n",
    "    return(decoded_item)"
   ]
  },
  {
   "cell_type": "markdown",
   "metadata": {},
   "source": [
    "Let's see what our data is made of. Feel free to try out other indexes."
   ]
  },
  {
   "cell_type": "code",
   "execution_count": null,
   "metadata": {},
   "outputs": [],
   "source": [
    "print(decode_data(1, train_data, reverse_word_index, 3), '\\n')\n",
    "print(decode_label(1, train_labels), '\\n')\n",
    "print(decode_data(2, train_data, reverse_word_index, 3), '\\n')\n",
    "print(decode_label(2, train_labels), '\\n')"
   ]
  },
  {
   "cell_type": "markdown",
   "metadata": {},
   "source": [
    "## Preparing the data\n",
    "\n",
    "We have to turn our lists into tensors before feeding them into a network.\n",
    "There are (at least) two ways we could do that:\n",
    "\n",
    "### Embedding\n",
    "- pad lists (with 0s) so that they all have the same length \n",
    "- turn the equal-length lists of integers into a tensor of shape `(samples, word_indices)`\n",
    "- use as the first layer a layer capable of handling such tensors\n",
    "- the `Embedding` layer (covered in more detail later) is one such layer\n",
    "\n",
    "### One-hot encoding\n",
    "- turn word index lists into binary vectors (of size `num_words`, one entry for each word index)\n",
    "- list `[3, 5]` is transformed to a 10,000-dimensional vector, all zeros except for indices 3 and 5, which would be ones\n",
    "- Lecturer note: we lose information for repeated words (could store the frequency?)\n",
    "- use a `Dense` layer as the first layer (as with MNIST data)\n",
    "\n",
    "We will go with the latter solution --- which is not necessarily the best solution --- but we try to manage with the tools we currently have."
   ]
  },
  {
   "cell_type": "markdown",
   "metadata": {},
   "source": [
    "We first \"vectorize\" our data.\n",
    "\n",
    "### Lecturer notes\n",
    "- DLwP tells that our tensors are \"integer tensors\" while the code below clearly fills them with floating point numbers.\n",
    "- The assignment statement `bitvectors[i, sequence] = 1.` makes use of _integer array indexing_ (see [Numpy documentation](https://docs.scipy.org/doc/numpy-1.13.0/reference/arrays.indexing.html) for details) when setting elements of `results` to value `1.` ."
   ]
  },
  {
   "cell_type": "code",
   "execution_count": null,
   "metadata": {},
   "outputs": [],
   "source": [
    "# sequences: list of lists of word indices, max_index = largest index + 1 (= num_words)\n",
    "def vectorize_sequences(sequences, max_index):\n",
    "    sample_dim = len(sequences)\n",
    "    zero_one_vectors = np.zeros((sample_dim, max_index))\n",
    "    for i, sequence in enumerate(sequences):\n",
    "        zero_one_vectors[i, sequence] = 1. # note: floating point number\n",
    "    return zero_one_vectors"
   ]
  },
  {
   "cell_type": "markdown",
   "metadata": {},
   "source": [
    "We could compute the maximum index of word indices with `max([max(sequence) for sequence in train_data]))` as in the earlier example, but we know it's `num_words` (10000)."
   ]
  },
  {
   "cell_type": "code",
   "execution_count": null,
   "metadata": {},
   "outputs": [],
   "source": [
    "x_train = vectorize_sequences(train_data, num_words)\n",
    "x_test = vectorize_sequences(test_data, num_words)"
   ]
  },
  {
   "cell_type": "markdown",
   "metadata": {},
   "source": [
    "Here's what our samples look like now:"
   ]
  },
  {
   "cell_type": "code",
   "execution_count": null,
   "metadata": {},
   "outputs": [],
   "source": [
    "print(x_train.shape)\n",
    "print(x_train[0])"
   ]
  },
  {
   "cell_type": "markdown",
   "metadata": {},
   "source": [
    "Labels are integer lists, lets make them numpy arrays (of floats)."
   ]
  },
  {
   "cell_type": "code",
   "execution_count": null,
   "metadata": {},
   "outputs": [],
   "source": [
    "y_train = np.asarray(train_labels).astype('float32')\n",
    "y_test  = np.asarray(test_labels).astype('float32')"
   ]
  },
  {
   "cell_type": "markdown",
   "metadata": {},
   "source": [
    "Now our data is ready to be fed into a neural network."
   ]
  },
  {
   "cell_type": "markdown",
   "metadata": {},
   "source": [
    "## Building our network\n",
    "\n",
    "\n",
    "Our input data is simply vectors, and our labels are scalars (1s and 0s): this is the easiest setup you will ever encounter.\n",
    "A type of network that performs well (?) on such a problem would be\n",
    "- a simple stack of fully-connected (`Dense`) layers with\n",
    "- `relu` activations: `Dense(16, activation='relu')`\n",
    "\n",
    "Having 16 units in a layer means that the weight matrix `W` of the first layer will have shape `(input_dimension, 16)`,\n",
    "i.e. the dot product with `W` will project the input data onto a 16-dimensional _representation space_\n",
    "(and then we would add the bias vector `b` and apply the `relu` operation).\n",
    "\n",
    "You can intuitively understand the dimensionality of your representation space as\n",
    "\"how much freedom you are allowing the network to have when learning internal representations\".\n",
    "\n",
    "Having more units (a higher-dimensional representation space) allows your network to learn more complex representations,\n",
    "but it makes your network more computationally expensive and may lead to learning unwanted (overfitting) patterns\n",
    "(patterns that will improve performance on the training data but not on the test data)."
   ]
  },
  {
   "cell_type": "markdown",
   "metadata": {},
   "source": [
    "### Architectural decisions\n",
    "\n",
    "Stack of dense layers (decision already made)\n",
    "- How many layers to use?\n",
    "- How many units to choose for each layer?\n",
    "- What activation functions to use in my units?\n",
    "\n",
    "Later you will (hopefully) learn formal principles to guide you in making these choices. \n",
    "For the time being, you will have to trust us: \n",
    "- two intermediate layers with 16 hidden units each\n",
    "- a third layer with 1 unit\n",
    "- intermediate layers use `relu` as their activation function\n",
    "- final layer uses a _sigmoid_ activation\n",
    "\n",
    "Sigmoid as output is a traditional choice for two-class classification tasks.\n",
    "It outputs a number between 0 and 1, indicating how likely the sample is to have the target \"1\" (positive). "
   ]
  },
  {
   "cell_type": "markdown",
   "metadata": {},
   "source": [
    "Here's what our network looks like:\n",
    "\n",
    "![3-layer network](https://s3.amazonaws.com/book.keras.io/img/ch3/3_layer_network.png)"
   ]
  },
  {
   "cell_type": "markdown",
   "metadata": {},
   "source": [
    "And here's the Keras implementation, very similar to the MNIST example you saw previously."
   ]
  },
  {
   "cell_type": "code",
   "execution_count": null,
   "metadata": {},
   "outputs": [],
   "source": [
    "model = models.Sequential()\n",
    "model.add(layers.Dense(16, activation='relu', input_shape=(num_words,)))\n",
    "model.add(layers.Dense(16, activation='relu'))\n",
    "model.add(layers.Dense(1, activation='sigmoid'))"
   ]
  },
  {
   "cell_type": "markdown",
   "metadata": {},
   "source": [
    "`model.summary()` is quite handy tool to quickly verify your model is as you meant it to be. It also shows you how many parameters the model has (might compare this to your dataset size). The first axis has value `None` since it is the batch axis (and we do not fix the size of minibatches in this phase, only once we compile the model)."
   ]
  },
  {
   "cell_type": "code",
   "execution_count": null,
   "metadata": {},
   "outputs": [],
   "source": [
    "print(model.summary())"
   ]
  },
  {
   "cell_type": "markdown",
   "metadata": {},
   "source": [
    "### Loss function and optimizer\n",
    "\n",
    "We are facing a binary classification problem and the output of our network is a probability.\n",
    "It is best to use the `binary_crossentropy` loss. \n",
    "It isn't the only viable choice: you could use, for instance, `mean_squared_error`.\n",
    "But crossentropy is usually the best choice when you are dealing with models that output probabilities.\n",
    "\n",
    "Here's the step where we configure our model with the `rmsprop` optimizer and the `binary_crossentropy` loss function.\n",
    "Note that we will also monitor accuracy during training."
   ]
  },
  {
   "cell_type": "code",
   "execution_count": null,
   "metadata": {},
   "outputs": [],
   "source": [
    "model.compile(optimizer='rmsprop',\n",
    "              loss='binary_crossentropy',\n",
    "              metrics=['accuracy'])"
   ]
  },
  {
   "cell_type": "markdown",
   "metadata": {},
   "source": [
    "We are passing our optimizer, loss function and metrics as strings, which is possible because `rmsprop`, `binary_crossentropy` and `accuracy` are packaged as part of Keras.\n",
    "\n",
    "Sometimes you may want to\n",
    "- configure the parameters of your optimizer, or\n",
    "- pass a custom loss function or metric function.\n",
    "\n",
    "The former can be done by passing an optimizer class instance as the `optimizer` argument:"
   ]
  },
  {
   "cell_type": "code",
   "execution_count": null,
   "metadata": {},
   "outputs": [],
   "source": [
    "model.compile(optimizer=optimizers.RMSprop(lr=0.001),\n",
    "              loss='binary_crossentropy',\n",
    "              metrics=['accuracy'])"
   ]
  },
  {
   "cell_type": "markdown",
   "metadata": {},
   "source": [
    "The latter can be done by passing function objects as the `loss` or `metrics` arguments:"
   ]
  },
  {
   "cell_type": "code",
   "execution_count": null,
   "metadata": {},
   "outputs": [],
   "source": [
    "model.compile(optimizer=optimizers.RMSprop(lr=0.001),\n",
    "              loss=losses.binary_crossentropy,\n",
    "              metrics=[metrics.binary_accuracy])"
   ]
  },
  {
   "cell_type": "markdown",
   "metadata": {},
   "source": [
    "## Validating our approach\n",
    "\n",
    "In order to monitor during training the accuracy of the model on data that it has never seen before, we will create a \"validation set\" by \n",
    "setting apart 10,000 samples from the original training data:"
   ]
  },
  {
   "cell_type": "code",
   "execution_count": null,
   "metadata": {},
   "outputs": [],
   "source": [
    "val_split = 10000 #nothing to do with the num_words although same value\n",
    "x_val = x_train[:val_split]\n",
    "partial_x_train = x_train[val_split:]\n",
    "\n",
    "y_val = y_train[:val_split]\n",
    "partial_y_train = y_train[val_split:]"
   ]
  },
  {
   "cell_type": "markdown",
   "metadata": {
    "collapsed": true
   },
   "source": [
    "We will now train our model for 20 epochs (20 iterations over all samples in the `x_train` and `y_train` tensors),\n",
    "in mini-batches of 512 samples.\n",
    "At this same time we will monitor loss and accuracy on the 10,000 samples that we set apart.\n",
    "This is done by passing the  validation data as the `validation_data` argument.\n",
    "\n",
    "### Lecturer notes\n",
    "Keras may complain something like `UserWarning: Method on_batch_end() is slow compared to the batch update (0.138002). Check your callbacks.` when training the model. This is because the validation set is unnecessarily large (40% of training data) and validation (which is a \"callback\" mentioned in the warning; callbacks are actions performed after each training epoch) takes hence almost the same time as training over one epoch.\n",
    "\n",
    "I would --- in general --- use more of the dataset as training data (say 80%) and rest (20%) for validation.\n",
    "But not in this case since our net tends to overfit quite badly (see below) and the more we train the more it overfits.\n",
    "\n",
    "It is also usually beneficial to shuffle (permute) the data before splitting it, because the original data may be in some set order."
   ]
  },
  {
   "cell_type": "code",
   "execution_count": null,
   "metadata": {},
   "outputs": [],
   "source": [
    "history = model.fit(partial_x_train,\n",
    "                    partial_y_train,\n",
    "                    epochs=20,\n",
    "                    batch_size=512,\n",
    "                    validation_data=(x_val, y_val))"
   ]
  },
  {
   "cell_type": "markdown",
   "metadata": {},
   "source": [
    "Note that the call to `model.fit()` returns a `History` object.\n",
    "This object has a member `history`, which is a dictionary containing data  about everything that happened during training.\n",
    "Let's take a look at it:"
   ]
  },
  {
   "cell_type": "code",
   "execution_count": null,
   "metadata": {},
   "outputs": [],
   "source": [
    "history_dict = history.history\n",
    "print(history_dict.keys())"
   ]
  },
  {
   "cell_type": "markdown",
   "metadata": {},
   "source": [
    "It contains 4 entries: one per each metric that was being monitored, during training and during validation.\n",
    "\n",
    "Let's use Matplotlib to plot the  training and validation loss side by side, as well as the training and validation accuracy:"
   ]
  },
  {
   "cell_type": "code",
   "execution_count": null,
   "metadata": {},
   "outputs": [],
   "source": [
    "loss = history.history['loss']\n",
    "val_loss = history.history['val_loss']"
   ]
  },
  {
   "cell_type": "code",
   "execution_count": null,
   "metadata": {},
   "outputs": [],
   "source": [
    "plt.ion()\n",
    "\n",
    "epochs = range(1, len(loss) + 1)\n",
    "# \"bo\" is for \"blue dot\"\n",
    "plt.plot(epochs, loss, 'bo', label='Training loss')\n",
    "# b is for \"solid blue line\"\n",
    "plt.plot(epochs, val_loss, 'b', label='Validation loss')\n",
    "\n",
    "plt.title('Training and validation loss')\n",
    "plt.xlabel('Epochs')\n",
    "plt.ylabel('Loss')\n",
    "plt.legend()\n",
    "\n",
    "plt.show()\n",
    "plt.ioff()"
   ]
  },
  {
   "cell_type": "code",
   "execution_count": null,
   "metadata": {},
   "outputs": [],
   "source": [
    "acc = history.history['binary_accuracy']\n",
    "val_acc = history.history['val_binary_accuracy']"
   ]
  },
  {
   "cell_type": "code",
   "execution_count": null,
   "metadata": {},
   "outputs": [],
   "source": [
    "plt.ion()\n",
    "\n",
    "plt.plot(epochs, acc, 'bo', label='Training acc')\n",
    "plt.plot(epochs, val_acc, 'b', label='Validation acc')\n",
    "\n",
    "plt.title('Training and validation accuracy')\n",
    "plt.xlabel('Epochs')\n",
    "plt.ylabel('Loss')\n",
    "plt.legend()\n",
    "\n",
    "plt.show()\n",
    "plt.ioff()"
   ]
  },
  {
   "cell_type": "markdown",
   "metadata": {},
   "source": [
    "\n",
    "The dots are the training loss and accuracy, while the solid lines are the validation loss and accuracy.\n",
    "Note that your own results may vary slightly due to a different random initialization of your network.\n",
    "\n",
    "As you can see,\n",
    "- the training loss decreases with every epoch and\n",
    "- the training accuracy increases with every epoch.\n",
    "\n",
    "That's what you would  expect when running gradient descent optimization -- \n",
    "the quantity you are trying to minimize should get lower with every iteration.\n",
    "\n",
    "Validation loss and accuracy seem to peak at the fourth epoch, and they get _worse_ after that:\n",
    "- a model that performs better on the training data\n",
    "- isn't necessarily a model that will do better on unseen data.\n",
    "\n",
    "What you are seeing is _overfitting_: we are over-optimizing on the training data.\n",
    "We ended up learning representations that\n",
    "- are specific to the training data and \n",
    "- do not generalize to data outside of the training set.\n",
    "\n",
    "To prevent overfitting, we could simply stop training after three or four epochs.\n",
    "In general, there is a range of techniques you can leverage to mitigate overfitting, which we will cover later.\n",
    "\n",
    "Let's see if our results improve by training the network only for four epochs:"
   ]
  },
  {
   "cell_type": "code",
   "execution_count": null,
   "metadata": {},
   "outputs": [],
   "source": [
    "model = models.Sequential()\n",
    "model.add(layers.Dense(16, activation='relu', input_shape=(num_words,)))\n",
    "model.add(layers.Dense(16, activation='relu'))\n",
    "model.add(layers.Dense(1, activation='sigmoid'))\n",
    "\n",
    "model.compile(optimizer='rmsprop', loss='binary_crossentropy', metrics=['accuracy'])\n",
    "\n",
    "model.fit(x_train, y_train, epochs=4, batch_size=512)\n",
    "results = model.evaluate(x_test, y_test)"
   ]
  },
  {
   "cell_type": "code",
   "execution_count": null,
   "metadata": {},
   "outputs": [],
   "source": [
    "print(results)"
   ]
  },
  {
   "cell_type": "markdown",
   "metadata": {},
   "source": [
    "Our fairly naive approach achieves an accuracy of 88%. With state-of-the-art approaches, one should be able to get close to 95%.\n",
    "\n",
    "### Lecturer's note\n",
    "State-of-the-art approaches make use of much more sophisticated networks than our simple stacked dense layers.\n",
    "We'll see them later."
   ]
  },
  {
   "cell_type": "markdown",
   "metadata": {},
   "source": [
    "## Using a trained network to generate predictions on new data\n",
    "\n",
    "After having trained a network, you will want to use it in a practical setting. You can generate the likelihood of reviews being positive \n",
    "by using the `predict` method:"
   ]
  },
  {
   "cell_type": "code",
   "execution_count": null,
   "metadata": {},
   "outputs": [],
   "source": [
    "p_result = model.predict(x_test)\n",
    "print(p_result)"
   ]
  },
  {
   "cell_type": "markdown",
   "metadata": {},
   "source": [
    "As you can see, the network is very confident for some samples (0.99 or more, or 0.01 or less) but less confident for others (0.6, 0.4). \n"
   ]
  },
  {
   "cell_type": "markdown",
   "metadata": {},
   "source": [
    "### Quick and dirty validation (new stuff)\n",
    "\n",
    "`fit` method has a useful parameter `validation_split`, which takes off the burden of creating our own validation sets (although the split is quite simplistic). From the [Keras documentation](https://keras.io/models/sequential/):\n",
    "\n",
    "Float between 0 and 1. Fraction of the training data to be used as validation data. The validation data is selected from the last samples in the `x` and `y` data provided, before shuffling."
   ]
  },
  {
   "cell_type": "code",
   "execution_count": null,
   "metadata": {},
   "outputs": [],
   "source": [
    "# Reset model\n",
    "model.compile(optimizer=optimizers.RMSprop(lr=0.001),\n",
    "              loss=losses.binary_crossentropy,\n",
    "              metrics=[metrics.binary_accuracy])\n",
    "\n",
    "# Making use of validation_split parameter, you might try out different values\n",
    "history = model.fit(x_train,\n",
    "                    y_train,\n",
    "                    validation_split=0.3,\n",
    "                    epochs=20,\n",
    "                    batch_size=512)"
   ]
  },
  {
   "cell_type": "code",
   "execution_count": null,
   "metadata": {},
   "outputs": [],
   "source": [
    "# With more data even more overfit\n",
    "results = model.evaluate(x_test, y_test)\n",
    "print(results)"
   ]
  },
  {
   "cell_type": "code",
   "execution_count": null,
   "metadata": {},
   "outputs": [],
   "source": [
    "loss = history.history['loss']\n",
    "val_loss = history.history['val_loss']\n",
    "\n",
    "plt.ion()\n",
    "\n",
    "epochs = range(1, len(loss) + 1)\n",
    "# \"bo\" is for \"blue dot\"\n",
    "plt.plot(epochs, loss, 'bo', label='Training loss')\n",
    "# b is for \"solid blue line\"\n",
    "plt.plot(epochs, val_loss, 'b', label='Validation loss')\n",
    "\n",
    "plt.title('Training and validation loss')\n",
    "plt.xlabel('Epochs')\n",
    "plt.ylabel('Loss')\n",
    "plt.legend()\n",
    "\n",
    "plt.show()\n",
    "plt.ioff()"
   ]
  }
 ],
 "metadata": {
  "kernelspec": {
   "display_name": "Python 3",
   "language": "python",
   "name": "python3"
  },
  "language_info": {
   "codemirror_mode": {
    "name": "ipython",
    "version": 3
   },
   "file_extension": ".py",
   "mimetype": "text/x-python",
   "name": "python",
   "nbconvert_exporter": "python",
   "pygments_lexer": "ipython3",
   "version": "3.6.8"
  }
 },
 "nbformat": 4,
 "nbformat_minor": 2
}
